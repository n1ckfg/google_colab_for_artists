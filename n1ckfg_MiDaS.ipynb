{
  "nbformat": 4,
  "nbformat_minor": 0,
  "metadata": {
    "colab": {
      "name": "n1ckfg-MiDaS.ipynb",
      "private_outputs": true,
      "provenance": [],
      "collapsed_sections": []
    },
    "kernelspec": {
      "name": "python3",
      "display_name": "Python 3"
    },
    "language_info": {
      "name": "python"
    },
    "accelerator": "GPU"
  },
  "cells": [
    {
      "cell_type": "code",
      "metadata": {
        "id": "CA-CGUVwoGpC"
      },
      "source": [
        "# STATUS\n",
        "!nvidia-smi && free -h && python --version"
      ],
      "execution_count": null,
      "outputs": []
    },
    {
      "cell_type": "code",
      "metadata": {
        "id": "FZUlASPItp7M"
      },
      "source": [
        "# GDRIVE\n",
        "!ls \"/content/drive/My Drive/COLAB/\"\n",
        "from google.colab import drive\n",
        "drive.mount('/content/drive', force_remount=True)"
      ],
      "execution_count": null,
      "outputs": []
    },
    {
      "cell_type": "code",
      "metadata": {
        "id": "ff9nMwoKtths"
      },
      "source": [
        "# SETUP\n",
        "!rm -rf MiDaS/\n",
        "!git clone https://github.com/n1ckfg/MiDaS"
      ],
      "execution_count": null,
      "outputs": []
    },
    {
      "cell_type": "code",
      "metadata": {
        "id": "wQW_1QTnRcCd"
      },
      "source": [
        "# WRANGLE\n",
        "%cd /content/MiDaS/\n",
        "!ln -s \"/content/drive/My Drive/COLAB/MiDaS/model/\"\n",
        "!rm -rf input\n",
        "!unzip \"/content/drive/My Drive/COLAB/MiDaS/input.zip\" -d input\n",
        "!rm -rf input/__MACOSX/"
      ],
      "execution_count": null,
      "outputs": []
    },
    {
      "cell_type": "code",
      "metadata": {
        "id": "iKbLCm9wuLv1"
      },
      "source": [
        "# RENDER\n",
        "%cd /content/MiDaS/\n",
        "!rm -rf output\n",
        "!mkdir output\n",
        "!python run.py --model_weights model/model-f6b98070.pt"
      ],
      "execution_count": null,
      "outputs": []
    },
    {
      "cell_type": "code",
      "metadata": {
        "id": "vWi_k9nyZ7ZG"
      },
      "source": [
        "# WRAPUP\n",
        "!zip output.zip output/*.png\n",
        "!cp output.zip \"/content/drive/My Drive/COLAB/MiDaS/\""
      ],
      "execution_count": null,
      "outputs": []
    }
  ]
}