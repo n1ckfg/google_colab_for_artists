{
  "nbformat": 4,
  "nbformat_minor": 0,
  "metadata": {
    "colab": {
      "name": "n1ckfg-ArtLine.ipynb",
      "provenance": [],
      "collapsed_sections": []
    },
    "kernelspec": {
      "name": "python3",
      "display_name": "Python 3"
    },
    "accelerator": "GPU"
  },
  "cells": [
    {
      "cell_type": "code",
      "source": [
        "!nvidia-smi\n",
        "!free -h"
      ],
      "metadata": {
        "id": "4cxWHMXMgxW8"
      },
      "execution_count": null,
      "outputs": []
    },
    {
      "cell_type": "code",
      "metadata": {
        "colab": {
          "base_uri": "https://localhost:8080/"
        },
        "id": "9z7_M0QymIiD",
        "outputId": "00a75019-08b7-41ac-9121-ade5a02982a4"
      },
      "source": [
        "# GDRIVE\n",
        "!ls \"/content/drive/My Drive/COLAB/\"\n",
        "from google.colab import drive\n",
        "drive.mount('/content/drive', force_remount=True)"
      ],
      "execution_count": null,
      "outputs": [
        {
          "output_type": "stream",
          "text": [
            "AdaBins  apps  ArtLine\tDenseDepth  MiDaS  NeuralContours  pix2pix-tensorflow\n",
            "Mounted at /content/drive\n"
          ],
          "name": "stdout"
        }
      ]
    },
    {
      "cell_type": "code",
      "metadata": {
        "id": "JB3_b7Vyh_D7",
        "colab": {
          "base_uri": "https://localhost:8080/"
        },
        "outputId": "a180a657-a491-4080-aba5-8c2fa4ac06ca"
      },
      "source": [
        "# SETUP\n",
        "!rm -rf ArtLine/\n",
        "!git clone https://github.com/n1ckfg/ArtLine"
      ],
      "execution_count": null,
      "outputs": [
        {
          "output_type": "stream",
          "text": [
            "Cloning into 'ArtLine'...\n",
            "remote: Enumerating objects: 479, done.\u001b[K\n",
            "remote: Total 479 (delta 0), reused 0 (delta 0), pack-reused 479\u001b[K\n",
            "Receiving objects: 100% (479/479), 350.17 KiB | 3.98 MiB/s, done.\n",
            "Resolving deltas: 100% (244/244), done.\n"
          ],
          "name": "stdout"
        }
      ]
    },
    {
      "cell_type": "code",
      "metadata": {
        "id": "Pgz35DlRqayT",
        "colab": {
          "base_uri": "https://localhost:8080/"
        },
        "outputId": "f01593ed-f60a-49c8-da05-9f27718dd5c4"
      },
      "source": [
        "# RENDER\n",
        "%cd \"/content/drive/My Drive/COLAB/ArtLine/\"\n",
        "!rm -rf output\n",
        "!mkdir output\n",
        "!python /content/ArtLine/artline.py --input_dir \"input\" --output_dir \"output\" --model \"model\"\n"
      ],
      "execution_count": null,
      "outputs": [
        {
          "output_type": "stream",
          "text": [
            "/content/drive/My Drive/COLAB/ArtLine\n",
            "Saved file 1 of 9.\n",
            "Saved file 2 of 9.\n",
            "Saved file 3 of 9.\n",
            "Saved file 4 of 9.\n",
            "Saved file 5 of 9.\n",
            "Saved file 6 of 9.\n",
            "Saved file 7 of 9.\n",
            "Saved file 8 of 9.\n",
            "Saved file 9 of 9.\n"
          ],
          "name": "stdout"
        }
      ]
    }
  ]
}