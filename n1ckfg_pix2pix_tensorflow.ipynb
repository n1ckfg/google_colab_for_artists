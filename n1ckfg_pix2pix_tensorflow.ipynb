{
  "nbformat": 4,
  "nbformat_minor": 0,
  "metadata": {
    "colab": {
      "name": "n1ckfg-pix2pix-tensorflow.ipynb",
      "private_outputs": true,
      "provenance": [],
      "collapsed_sections": []
    },
    "kernelspec": {
      "name": "python3",
      "display_name": "Python 3"
    },
    "accelerator": "GPU"
  },
  "cells": [
    {
      "cell_type": "code",
      "metadata": {
        "id": "GDqiJvxKDE5A"
      },
      "source": [
        "# STATUS\n",
        "!nvidia-smi && free -h && python --version"
      ],
      "execution_count": null,
      "outputs": []
    },
    {
      "cell_type": "code",
      "metadata": {
        "id": "9z7_M0QymIiD"
      },
      "source": [
        "# GDRIVE\n",
        "!ls \"/content/drive/My Drive/COLAB/\"\n",
        "from google.colab import drive\n",
        "drive.mount('/content/drive', force_remount=True)"
      ],
      "execution_count": null,
      "outputs": []
    },
    {
      "cell_type": "code",
      "metadata": {
        "id": "JB3_b7Vyh_D7"
      },
      "source": [
        "# SETUP: CHOOSE RESOLUTION\n",
        "BRANCH=\"1024x1024\"\n",
        "\n",
        "%cd \"/content\"\n",
        "!rm -rf pix2pix-tensorflow/\n",
        "!git clone https://github.com/n1ckfg/pix2pix-tensorflow -b \"$BRANCH\"\n"
      ],
      "execution_count": null,
      "outputs": []
    },
    {
      "cell_type": "code",
      "metadata": {
        "id": "dHF_sUkoh9KS"
      },
      "source": [
        "# DEPENDENCIES\n",
        "%tensorflow_version 1.x"
      ],
      "execution_count": null,
      "outputs": []
    },
    {
      "cell_type": "code",
      "metadata": {
        "id": "O6A5JZuk_-0U"
      },
      "source": [
        "# CHOOSE MODEL / WRANGLE\n",
        "#MODEL=\"hallucinate_art_from_contour\"\n",
        "MODEL=\"hallucinate_rgb_from_contour\"\n",
        "#MODEL=\"line_art_to_color_art\"\n",
        "#MODEL=\"rgbtoxyz\"\n",
        "#MODEL=\"neural_contours_dataset\"\n",
        "#MODEL=\"art_texture\"\n",
        "\n",
        "DIM=\"1024\"\n",
        "\n",
        "%cd \"/content/pix2pix-tensorflow\"\n",
        "\n",
        "!rm -rf model\n",
        "!ln -s \"/content/drive/My Drive/COLAB/pix2pix-tensorflow/$MODEL/$DIM/model\" model\n",
        "\n",
        "!rm -rf output\n",
        "!mkdir output\n",
        "\n",
        "!cp \"/content/drive/My Drive/COLAB/pix2pix-tensorflow/$MODEL/input.zip\" .\n",
        "!rm -rf input\n",
        "!mkdir input\n",
        "!unzip input.zip -d input\n",
        "!rm -rf input/__MACOSX/"
      ],
      "execution_count": null,
      "outputs": []
    },
    {
      "cell_type": "code",
      "metadata": {
        "id": "Pgz35DlRqayT"
      },
      "source": [
        "# RENDER\n",
        "%cd \"/content/pix2pix-tensorflow/\"\n",
        "\n",
        "!python /content/pix2pix-tensorflow/pix2pix.py --mode test --checkpoint \"model\" --output_dir \"output\" --input_dir \"input\"\n",
        "\n",
        "!rm output/images/*inputs.png\n",
        "!rm output/images/*targets.png"
      ],
      "execution_count": null,
      "outputs": []
    },
    {
      "cell_type": "code",
      "metadata": {
        "id": "JVPv2UvOSawP"
      },
      "source": [
        "# WRAPUP\n",
        "%cd \"/content/pix2pix-tensorflow\"\n",
        "!zip output.zip output/images/*.png\n",
        "!cp output.zip \"/content/drive/My Drive/COLAB/pix2pix-tensorflow/\"\n"
      ],
      "execution_count": null,
      "outputs": []
    }
  ]
}