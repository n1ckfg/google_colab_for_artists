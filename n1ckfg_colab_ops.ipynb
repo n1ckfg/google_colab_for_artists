{
  "nbformat": 4,
  "nbformat_minor": 0,
  "metadata": {
    "colab": {
      "name": "n1ckfg-colab-ops.ipynb",
      "private_outputs": true,
      "provenance": [],
      "collapsed_sections": []
    },
    "kernelspec": {
      "name": "python3",
      "display_name": "Python 3"
    },
    "language_info": {
      "name": "python"
    }
  },
  "cells": [
    {
      "cell_type": "markdown",
      "source": [
        "## Colab Ops"
      ],
      "metadata": {
        "id": "Z3HLc9fsE0JR"
      }
    },
    {
      "cell_type": "code",
      "source": [
        "# STATUS\n",
        "!nvidia-smi && free -h && python --version"
      ],
      "metadata": {
        "id": "v65ofhcBeISM"
      },
      "execution_count": null,
      "outputs": []
    },
    {
      "cell_type": "code",
      "metadata": {
        "id": "NjL7FBTsHgNG"
      },
      "source": [
        "# GDRIVE\n",
        "!ls \"/content/drive/My Drive/COLAB/\"\n",
        "from google.colab import drive\n",
        "drive.mount('/content/drive', force_remount=True)"
      ],
      "execution_count": null,
      "outputs": []
    },
    {
      "cell_type": "code",
      "metadata": {
        "id": "XOHtAtAmHru8"
      },
      "source": [
        "# ZIP FILES\n",
        "%cd \"/content/drive/My Drive/COLAB/vox2vox-pytorch/models\"\n",
        "!zip output.zip *.pth"
      ],
      "execution_count": null,
      "outputs": []
    },
    {
      "cell_type": "code",
      "source": [
        "# ZIP DIRECTORY\n",
        "%cd \"/content/drive/My Drive/COLAB/vox2vox-pytorch/models\"\n",
        "!zip -r rgbtoxyz.zip rgbtoxyz"
      ],
      "metadata": {
        "id": "-atEsai480VX"
      },
      "execution_count": null,
      "outputs": []
    },
    {
      "cell_type": "code",
      "source": [
        "# UNZIP\n",
        "!unzip output.zip"
      ],
      "metadata": {
        "id": "SGmcwOQdAMEA"
      },
      "execution_count": null,
      "outputs": []
    },
    {
      "cell_type": "code",
      "metadata": {
        "id": "0V5h1LRNupus"
      },
      "source": [
        "# FFMPEG STILLS TO VIDEO\n",
        "!ffmpeg -i example/output/%06d.png output.mp4"
      ],
      "execution_count": null,
      "outputs": []
    },
    {
      "cell_type": "code",
      "metadata": {
        "id": "lvGLoFiyusNb"
      },
      "source": [
        "# DOWNLOAD\n",
        "from google.colab import files\n",
        "files.download(\"output.mp4\")"
      ],
      "execution_count": null,
      "outputs": []
    },
    {
      "cell_type": "code",
      "source": [
        "# UPLOAD\n",
        "from google.colab import files\n",
        "uploadList = files.upload()\n",
        "for fileName in uploadList:\n",
        "  print(fileName)"
      ],
      "metadata": {
        "id": "qSsVHLYP8ym4"
      },
      "execution_count": null,
      "outputs": []
    },
    {
      "cell_type": "markdown",
      "source": [
        ""
      ],
      "metadata": {
        "id": "sTBz8GpY9izB"
      }
    }
  ]
}