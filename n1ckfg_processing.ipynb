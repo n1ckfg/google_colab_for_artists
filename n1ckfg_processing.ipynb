{
  "nbformat": 4,
  "nbformat_minor": 0,
  "metadata": {
    "colab": {
      "name": "n1ckfg-processing.ipynb",
      "private_outputs": true,
      "provenance": [],
      "collapsed_sections": []
    },
    "kernelspec": {
      "name": "python3",
      "display_name": "Python 3"
    },
    "language_info": {
      "name": "python"
    }
  },
  "cells": [
    {
      "cell_type": "code",
      "metadata": {
        "id": "xtJIB-r_jjlt"
      },
      "source": [
        "# Choose your Processing version\n",
        "P5_DIR=\"processing-3.5.4\"\n",
        "\n",
        "P5_DOWNLOAD = P5_DIR + \"-linux64.tgz\"\n",
        "!rm -rf \"$P5_DIR\"\n",
        "!rm -rf processing\n",
        "!rm \"$P5_DOWNLOAD\"\n",
        "!wget \"https://download.processing.org/$P5_DOWNLOAD\"\n",
        "!tar -xvf \"$P5_DOWNLOAD\"\n",
        "!rm \"$P5_DOWNLOAD\"\n",
        "!mv \"$P5_DIR\" processing\n",
        "!ls"
      ],
      "execution_count": null,
      "outputs": []
    },
    {
      "cell_type": "code",
      "metadata": {
        "id": "klv6HWEtnYsj"
      },
      "source": [
        "# DEPENDENCIES\n",
        "# This allows Processing to run headless on Colab\n",
        "!apt-get install xvfb\n",
        "\n",
        "# https://stackoverflow.com/questions/22269366/alternate-libraries-folder-locations-for-processing-in-installation-folder\n",
        "# Install any Processing libraries you need to, or include them in the ./code folder of your project \n",
        "%cd /content/processing/modes/java/libraries/"
      ],
      "execution_count": null,
      "outputs": []
    },
    {
      "cell_type": "code",
      "metadata": {
        "id": "0rRKtVJ-HW3X"
      },
      "source": [
        "%cd /content/\n",
        "# Now get the sketch you want to run, for example:\n",
        "# git clone https://github.com/username/test"
      ],
      "execution_count": null,
      "outputs": []
    },
    {
      "cell_type": "code",
      "metadata": {
        "id": "Ng1rddotj2ch"
      },
      "source": [
        "# https://github.com/processing/processing/wiki/Command-Line\n",
        "# Remember that your Processing sketch will not exit() unless you've told it to.\n",
        "%cd /content/processing/\n",
        "!xvfb-run ./processing-java --sketch=\"../test\" --run"
      ],
      "execution_count": null,
      "outputs": []
    }
  ]
}